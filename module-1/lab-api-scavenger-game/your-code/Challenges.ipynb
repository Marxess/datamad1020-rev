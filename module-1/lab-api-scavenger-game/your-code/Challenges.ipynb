{
 "cells": [
  {
   "cell_type": "code",
   "execution_count": 28,
   "metadata": {},
   "outputs": [
    {
     "output_type": "execute_result",
     "data": {
      "text/plain": [
       "True"
      ]
     },
     "metadata": {},
     "execution_count": 28
    }
   ],
   "source": [
    "import os\n",
    "from dotenv import load_dotenv\n",
    "import json\n",
    "import requests\n",
    "import re\n",
    "load_dotenv()"
   ]
  },
  {
   "cell_type": "code",
   "execution_count": 29,
   "metadata": {},
   "outputs": [
    {
     "output_type": "stream",
     "name": "stdout",
     "text": [
      "Requirement already up-to-date: python-dotenv in /usr/local/lib/python3.8/site-packages (0.15.0)\n"
     ]
    }
   ],
   "source": [
    "!pip3 install -U python-dotenv"
   ]
  },
  {
   "cell_type": "code",
   "execution_count": 26,
   "metadata": {},
   "outputs": [],
   "source": [
    "#Challenge 1: Fork Languages"
   ]
  },
  {
   "cell_type": "code",
   "execution_count": 56,
   "metadata": {},
   "outputs": [],
   "source": [
    "import numpy as np\n",
    "import pandas as pd"
   ]
  },
  {
   "cell_type": "code",
   "execution_count": 57,
   "metadata": {},
   "outputs": [],
   "source": [
    "token = os.getenv('token')"
   ]
  },
  {
   "cell_type": "code",
   "execution_count": 58,
   "metadata": {},
   "outputs": [],
   "source": [
    "headers = {'Authorization': 'token'}"
   ]
  },
  {
   "cell_type": "code",
   "execution_count": 59,
   "metadata": {},
   "outputs": [],
   "source": [
    "url = 'https://api.github.com/repos/ironhack-datalabs/datamad1020-rev/forks'"
   ]
  },
  {
   "cell_type": "code",
   "execution_count": 60,
   "metadata": {},
   "outputs": [],
   "source": [
    "res = requests.get(url, headers)"
   ]
  },
  {
   "cell_type": "code",
   "execution_count": 61,
   "metadata": {},
   "outputs": [
    {
     "output_type": "stream",
     "name": "stdout",
     "text": [
      "<Response [200]>\n"
     ]
    }
   ],
   "source": [
    "print(res)"
   ]
  },
  {
   "cell_type": "code",
   "execution_count": 62,
   "metadata": {},
   "outputs": [],
   "source": [
    "data = res.json()"
   ]
  },
  {
   "cell_type": "code",
   "execution_count": 63,
   "metadata": {
    "tags": [
     "outputPrepend"
    ]
   },
   "outputs": [
    {
     "output_type": "stream",
     "name": "stdout",
     "text": [
      "b.com/repos/BlueJotas/datamad1020-rev/languages', 'stargazers_url': 'https://api.github.com/repos/BlueJotas/datamad1020-rev/stargazers', 'contributors_url': 'https://api.github.com/repos/BlueJotas/datamad1020-rev/contributors', 'subscribers_url': 'https://api.github.com/repos/BlueJotas/datamad1020-rev/subscribers', 'subscription_url': 'https://api.github.com/repos/BlueJotas/datamad1020-rev/subscription', 'commits_url': 'https://api.github.com/repos/BlueJotas/datamad1020-rev/commits{/sha}', 'git_commits_url': 'https://api.github.com/repos/BlueJotas/datamad1020-rev/git/commits{/sha}', 'comments_url': 'https://api.github.com/repos/BlueJotas/datamad1020-rev/comments{/number}', 'issue_comment_url': 'https://api.github.com/repos/BlueJotas/datamad1020-rev/issues/comments{/number}', 'contents_url': 'https://api.github.com/repos/BlueJotas/datamad1020-rev/contents/{+path}', 'compare_url': 'https://api.github.com/repos/BlueJotas/datamad1020-rev/compare/{base}...{head}', 'merges_url': 'https://api.github.com/repos/BlueJotas/datamad1020-rev/merges', 'archive_url': 'https://api.github.com/repos/BlueJotas/datamad1020-rev/{archive_format}{/ref}', 'downloads_url': 'https://api.github.com/repos/BlueJotas/datamad1020-rev/downloads', 'issues_url': 'https://api.github.com/repos/BlueJotas/datamad1020-rev/issues{/number}', 'pulls_url': 'https://api.github.com/repos/BlueJotas/datamad1020-rev/pulls{/number}', 'milestones_url': 'https://api.github.com/repos/BlueJotas/datamad1020-rev/milestones{/number}', 'notifications_url': 'https://api.github.com/repos/BlueJotas/datamad1020-rev/notifications{?since,all,participating}', 'labels_url': 'https://api.github.com/repos/BlueJotas/datamad1020-rev/labels{/name}', 'releases_url': 'https://api.github.com/repos/BlueJotas/datamad1020-rev/releases{/id}', 'deployments_url': 'https://api.github.com/repos/BlueJotas/datamad1020-rev/deployments', 'created_at': '2020-10-19T13:34:52Z', 'updated_at': '2020-11-03T10:09:04Z', 'pushed_at': '2020-11-03T18:25:03Z', 'git_url': 'git://github.com/BlueJotas/datamad1020-rev.git', 'ssh_url': 'git@github.com:BlueJotas/datamad1020-rev.git', 'clone_url': 'https://github.com/BlueJotas/datamad1020-rev.git', 'svn_url': 'https://github.com/BlueJotas/datamad1020-rev', 'homepage': None, 'size': 163651, 'stargazers_count': 0, 'watchers_count': 0, 'language': 'Jupyter Notebook', 'has_issues': False, 'has_projects': True, 'has_downloads': True, 'has_wiki': True, 'has_pages': False, 'forks_count': 0, 'mirror_url': None, 'archived': False, 'disabled': False, 'open_issues_count': 0, 'license': {'key': 'agpl-3.0', 'name': 'GNU Affero General Public License v3.0', 'spdx_id': 'AGPL-3.0', 'url': 'https://api.github.com/licenses/agpl-3.0', 'node_id': 'MDc6TGljZW5zZTE='}, 'forks': 0, 'open_issues': 0, 'watchers': 0, 'default_branch': 'master'}, {'id': 305395108, 'node_id': 'MDEwOlJlcG9zaXRvcnkzMDUzOTUxMDg=', 'name': 'datamad1020-rev', 'full_name': 'jvazquezgalvezlp/datamad1020-rev', 'private': False, 'owner': {'login': 'jvazquezgalvezlp', 'id': 71273661, 'node_id': 'MDQ6VXNlcjcxMjczNjYx', 'avatar_url': 'https://avatars3.githubusercontent.com/u/71273661?v=4', 'gravatar_id': '', 'url': 'https://api.github.com/users/jvazquezgalvezlp', 'html_url': 'https://github.com/jvazquezgalvezlp', 'followers_url': 'https://api.github.com/users/jvazquezgalvezlp/followers', 'following_url': 'https://api.github.com/users/jvazquezgalvezlp/following{/other_user}', 'gists_url': 'https://api.github.com/users/jvazquezgalvezlp/gists{/gist_id}', 'starred_url': 'https://api.github.com/users/jvazquezgalvezlp/starred{/owner}{/repo}', 'subscriptions_url': 'https://api.github.com/users/jvazquezgalvezlp/subscriptions', 'organizations_url': 'https://api.github.com/users/jvazquezgalvezlp/orgs', 'repos_url': 'https://api.github.com/users/jvazquezgalvezlp/repos', 'events_url': 'https://api.github.com/users/jvazquezgalvezlp/events{/privacy}', 'received_events_url': 'https://api.github.com/users/jvazquezgalvezlp/received_events', 'type': 'User', 'site_admin': False}, 'html_url': 'https://github.com/jvazquezgalvezlp/datamad1020-rev', 'description': None, 'fork': True, 'url': 'https://api.github.com/repos/jvazquezgalvezlp/datamad1020-rev', 'forks_url': 'https://api.github.com/repos/jvazquezgalvezlp/datamad1020-rev/forks', 'keys_url': 'https://api.github.com/repos/jvazquezgalvezlp/datamad1020-rev/keys{/key_id}', 'collaborators_url': 'https://api.github.com/repos/jvazquezgalvezlp/datamad1020-rev/collaborators{/collaborator}', 'teams_url': 'https://api.github.com/repos/jvazquezgalvezlp/datamad1020-rev/teams', 'hooks_url': 'https://api.github.com/repos/jvazquezgalvezlp/datamad1020-rev/hooks', 'issue_events_url': 'https://api.github.com/repos/jvazquezgalvezlp/datamad1020-rev/issues/events{/number}', 'events_url': 'https://api.github.com/repos/jvazquezgalvezlp/datamad1020-rev/events', 'assignees_url': 'https://api.github.com/repos/jvazquezgalvezlp/datamad1020-rev/assignees{/user}', 'branches_url': 'https://api.github.com/repos/jvazquezgalvezlp/datamad1020-rev/branches{/branch}', 'tags_url': 'https://api.github.com/repos/jvazquezgalvezlp/datamad1020-rev/tags', 'blobs_url': 'https://api.github.com/repos/jvazquezgalvezlp/datamad1020-rev/git/blobs{/sha}', 'git_tags_url': 'https://api.github.com/repos/jvazquezgalvezlp/datamad1020-rev/git/tags{/sha}', 'git_refs_url': 'https://api.github.com/repos/jvazquezgalvezlp/datamad1020-rev/git/refs{/sha}', 'trees_url': 'https://api.github.com/repos/jvazquezgalvezlp/datamad1020-rev/git/trees{/sha}', 'statuses_url': 'https://api.github.com/repos/jvazquezgalvezlp/datamad1020-rev/statuses/{sha}', 'languages_url': 'https://api.github.com/repos/jvazquezgalvezlp/datamad1020-rev/languages', 'stargazers_url': 'https://api.github.com/repos/jvazquezgalvezlp/datamad1020-rev/stargazers', 'contributors_url': 'https://api.github.com/repos/jvazquezgalvezlp/datamad1020-rev/contributors', 'subscribers_url': 'https://api.github.com/repos/jvazquezgalvezlp/datamad1020-rev/subscribers', 'subscription_url': 'https://api.github.com/repos/jvazquezgalvezlp/datamad1020-rev/subscription', 'commits_url': 'https://api.github.com/repos/jvazquezgalvezlp/datamad1020-rev/commits{/sha}', 'git_commits_url': 'https://api.github.com/repos/jvazquezgalvezlp/datamad1020-rev/git/commits{/sha}', 'comments_url': 'https://api.github.com/repos/jvazquezgalvezlp/datamad1020-rev/comments{/number}', 'issue_comment_url': 'https://api.github.com/repos/jvazquezgalvezlp/datamad1020-rev/issues/comments{/number}', 'contents_url': 'https://api.github.com/repos/jvazquezgalvezlp/datamad1020-rev/contents/{+path}', 'compare_url': 'https://api.github.com/repos/jvazquezgalvezlp/datamad1020-rev/compare/{base}...{head}', 'merges_url': 'https://api.github.com/repos/jvazquezgalvezlp/datamad1020-rev/merges', 'archive_url': 'https://api.github.com/repos/jvazquezgalvezlp/datamad1020-rev/{archive_format}{/ref}', 'downloads_url': 'https://api.github.com/repos/jvazquezgalvezlp/datamad1020-rev/downloads', 'issues_url': 'https://api.github.com/repos/jvazquezgalvezlp/datamad1020-rev/issues{/number}', 'pulls_url': 'https://api.github.com/repos/jvazquezgalvezlp/datamad1020-rev/pulls{/number}', 'milestones_url': 'https://api.github.com/repos/jvazquezgalvezlp/datamad1020-rev/milestones{/number}', 'notifications_url': 'https://api.github.com/repos/jvazquezgalvezlp/datamad1020-rev/notifications{?since,all,participating}', 'labels_url': 'https://api.github.com/repos/jvazquezgalvezlp/datamad1020-rev/labels{/name}', 'releases_url': 'https://api.github.com/repos/jvazquezgalvezlp/datamad1020-rev/releases{/id}', 'deployments_url': 'https://api.github.com/repos/jvazquezgalvezlp/datamad1020-rev/deployments', 'created_at': '2020-10-19T13:34:48Z', 'updated_at': '2020-11-03T16:24:17Z', 'pushed_at': '2020-11-03T16:24:14Z', 'git_url': 'git://github.com/jvazquezgalvezlp/datamad1020-rev.git', 'ssh_url': 'git@github.com:jvazquezgalvezlp/datamad1020-rev.git', 'clone_url': 'https://github.com/jvazquezgalvezlp/datamad1020-rev.git', 'svn_url': 'https://github.com/jvazquezgalvezlp/datamad1020-rev', 'homepage': None, 'size': 163710, 'stargazers_count': 0, 'watchers_count': 0, 'language': 'Jupyter Notebook', 'has_issues': False, 'has_projects': True, 'has_downloads': True, 'has_wiki': True, 'has_pages': False, 'forks_count': 0, 'mirror_url': None, 'archived': False, 'disabled': False, 'open_issues_count': 0, 'license': {'key': 'agpl-3.0', 'name': 'GNU Affero General Public License v3.0', 'spdx_id': 'AGPL-3.0', 'url': 'https://api.github.com/licenses/agpl-3.0', 'node_id': 'MDc6TGljZW5zZTE='}, 'forks': 0, 'open_issues': 0, 'watchers': 0, 'default_branch': 'master'}, {'id': 305393840, 'node_id': 'MDEwOlJlcG9zaXRvcnkzMDUzOTM4NDA=', 'name': 'datamad1020-rev', 'full_name': 'leticia-sobrino/datamad1020-rev', 'private': False, 'owner': {'login': 'leticia-sobrino', 'id': 72402688, 'node_id': 'MDQ6VXNlcjcyNDAyNjg4', 'avatar_url': 'https://avatars3.githubusercontent.com/u/72402688?v=4', 'gravatar_id': '', 'url': 'https://api.github.com/users/leticia-sobrino', 'html_url': 'https://github.com/leticia-sobrino', 'followers_url': 'https://api.github.com/users/leticia-sobrino/followers', 'following_url': 'https://api.github.com/users/leticia-sobrino/following{/other_user}', 'gists_url': 'https://api.github.com/users/leticia-sobrino/gists{/gist_id}', 'starred_url': 'https://api.github.com/users/leticia-sobrino/starred{/owner}{/repo}', 'subscriptions_url': 'https://api.github.com/users/leticia-sobrino/subscriptions', 'organizations_url': 'https://api.github.com/users/leticia-sobrino/orgs', 'repos_url': 'https://api.github.com/users/leticia-sobrino/repos', 'events_url': 'https://api.github.com/users/leticia-sobrino/events{/privacy}', 'received_events_url': 'https://api.github.com/users/leticia-sobrino/received_events', 'type': 'User', 'site_admin': False}, 'html_url': 'https://github.com/leticia-sobrino/datamad1020-rev', 'description': None, 'fork': True, 'url': 'https://api.github.com/repos/leticia-sobrino/datamad1020-rev', 'forks_url': 'https://api.github.com/repos/leticia-sobrino/datamad1020-rev/forks', 'keys_url': 'https://api.github.com/repos/leticia-sobrino/datamad1020-rev/keys{/key_id}', 'collaborators_url': 'https://api.github.com/repos/leticia-sobrino/datamad1020-rev/collaborators{/collaborator}', 'teams_url': 'https://api.github.com/repos/leticia-sobrino/datamad1020-rev/teams', 'hooks_url': 'https://api.github.com/repos/leticia-sobrino/datamad1020-rev/hooks', 'issue_events_url': 'https://api.github.com/repos/leticia-sobrino/datamad1020-rev/issues/events{/number}', 'events_url': 'https://api.github.com/repos/leticia-sobrino/datamad1020-rev/events', 'assignees_url': 'https://api.github.com/repos/leticia-sobrino/datamad1020-rev/assignees{/user}', 'branches_url': 'https://api.github.com/repos/leticia-sobrino/datamad1020-rev/branches{/branch}', 'tags_url': 'https://api.github.com/repos/leticia-sobrino/datamad1020-rev/tags', 'blobs_url': 'https://api.github.com/repos/leticia-sobrino/datamad1020-rev/git/blobs{/sha}', 'git_tags_url': 'https://api.github.com/repos/leticia-sobrino/datamad1020-rev/git/tags{/sha}', 'git_refs_url': 'https://api.github.com/repos/leticia-sobrino/datamad1020-rev/git/refs{/sha}', 'trees_url': 'https://api.github.com/repos/leticia-sobrino/datamad1020-rev/git/trees{/sha}', 'statuses_url': 'https://api.github.com/repos/leticia-sobrino/datamad1020-rev/statuses/{sha}', 'languages_url': 'https://api.github.com/repos/leticia-sobrino/datamad1020-rev/languages', 'stargazers_url': 'https://api.github.com/repos/leticia-sobrino/datamad1020-rev/stargazers', 'contributors_url': 'https://api.github.com/repos/leticia-sobrino/datamad1020-rev/contributors', 'subscribers_url': 'https://api.github.com/repos/leticia-sobrino/datamad1020-rev/subscribers', 'subscription_url': 'https://api.github.com/repos/leticia-sobrino/datamad1020-rev/subscription', 'commits_url': 'https://api.github.com/repos/leticia-sobrino/datamad1020-rev/commits{/sha}', 'git_commits_url': 'https://api.github.com/repos/leticia-sobrino/datamad1020-rev/git/commits{/sha}', 'comments_url': 'https://api.github.com/repos/leticia-sobrino/datamad1020-rev/comments{/number}', 'issue_comment_url': 'https://api.github.com/repos/leticia-sobrino/datamad1020-rev/issues/comments{/number}', 'contents_url': 'https://api.github.com/repos/leticia-sobrino/datamad1020-rev/contents/{+path}', 'compare_url': 'https://api.github.com/repos/leticia-sobrino/datamad1020-rev/compare/{base}...{head}', 'merges_url': 'https://api.github.com/repos/leticia-sobrino/datamad1020-rev/merges', 'archive_url': 'https://api.github.com/repos/leticia-sobrino/datamad1020-rev/{archive_format}{/ref}', 'downloads_url': 'https://api.github.com/repos/leticia-sobrino/datamad1020-rev/downloads', 'issues_url': 'https://api.github.com/repos/leticia-sobrino/datamad1020-rev/issues{/number}', 'pulls_url': 'https://api.github.com/repos/leticia-sobrino/datamad1020-rev/pulls{/number}', 'milestones_url': 'https://api.github.com/repos/leticia-sobrino/datamad1020-rev/milestones{/number}', 'notifications_url': 'https://api.github.com/repos/leticia-sobrino/datamad1020-rev/notifications{?since,all,participating}', 'labels_url': 'https://api.github.com/repos/leticia-sobrino/datamad1020-rev/labels{/name}', 'releases_url': 'https://api.github.com/repos/leticia-sobrino/datamad1020-rev/releases{/id}', 'deployments_url': 'https://api.github.com/repos/leticia-sobrino/datamad1020-rev/deployments', 'created_at': '2020-10-19T13:30:31Z', 'updated_at': '2020-11-03T15:30:48Z', 'pushed_at': '2020-11-03T20:03:06Z', 'git_url': 'git://github.com/leticia-sobrino/datamad1020-rev.git', 'ssh_url': 'git@github.com:leticia-sobrino/datamad1020-rev.git', 'clone_url': 'https://github.com/leticia-sobrino/datamad1020-rev.git', 'svn_url': 'https://github.com/leticia-sobrino/datamad1020-rev', 'homepage': None, 'size': 163531, 'stargazers_count': 0, 'watchers_count': 0, 'language': 'Jupyter Notebook', 'has_issues': False, 'has_projects': True, 'has_downloads': True, 'has_wiki': True, 'has_pages': False, 'forks_count': 0, 'mirror_url': None, 'archived': False, 'disabled': False, 'open_issues_count': 0, 'license': {'key': 'agpl-3.0', 'name': 'GNU Affero General Public License v3.0', 'spdx_id': 'AGPL-3.0', 'url': 'https://api.github.com/licenses/agpl-3.0', 'node_id': 'MDc6TGljZW5zZTE='}, 'forks': 0, 'open_issues': 0, 'watchers': 0, 'default_branch': 'master'}, {'id': 305393783, 'node_id': 'MDEwOlJlcG9zaXRvcnkzMDUzOTM3ODM=', 'name': 'datamad1020-rev', 'full_name': 'JaimeCalcedo/datamad1020-rev', 'private': False, 'owner': {'login': 'JaimeCalcedo', 'id': 71643003, 'node_id': 'MDQ6VXNlcjcxNjQzMDAz', 'avatar_url': 'https://avatars3.githubusercontent.com/u/71643003?v=4', 'gravatar_id': '', 'url': 'https://api.github.com/users/JaimeCalcedo', 'html_url': 'https://github.com/JaimeCalcedo', 'followers_url': 'https://api.github.com/users/JaimeCalcedo/followers', 'following_url': 'https://api.github.com/users/JaimeCalcedo/following{/other_user}', 'gists_url': 'https://api.github.com/users/JaimeCalcedo/gists{/gist_id}', 'starred_url': 'https://api.github.com/users/JaimeCalcedo/starred{/owner}{/repo}', 'subscriptions_url': 'https://api.github.com/users/JaimeCalcedo/subscriptions', 'organizations_url': 'https://api.github.com/users/JaimeCalcedo/orgs', 'repos_url': 'https://api.github.com/users/JaimeCalcedo/repos', 'events_url': 'https://api.github.com/users/JaimeCalcedo/events{/privacy}', 'received_events_url': 'https://api.github.com/users/JaimeCalcedo/received_events', 'type': 'User', 'site_admin': False}, 'html_url': 'https://github.com/JaimeCalcedo/datamad1020-rev', 'description': None, 'fork': True, 'url': 'https://api.github.com/repos/JaimeCalcedo/datamad1020-rev', 'forks_url': 'https://api.github.com/repos/JaimeCalcedo/datamad1020-rev/forks', 'keys_url': 'https://api.github.com/repos/JaimeCalcedo/datamad1020-rev/keys{/key_id}', 'collaborators_url': 'https://api.github.com/repos/JaimeCalcedo/datamad1020-rev/collaborators{/collaborator}', 'teams_url': 'https://api.github.com/repos/JaimeCalcedo/datamad1020-rev/teams', 'hooks_url': 'https://api.github.com/repos/JaimeCalcedo/datamad1020-rev/hooks', 'issue_events_url': 'https://api.github.com/repos/JaimeCalcedo/datamad1020-rev/issues/events{/number}', 'events_url': 'https://api.github.com/repos/JaimeCalcedo/datamad1020-rev/events', 'assignees_url': 'https://api.github.com/repos/JaimeCalcedo/datamad1020-rev/assignees{/user}', 'branches_url': 'https://api.github.com/repos/JaimeCalcedo/datamad1020-rev/branches{/branch}', 'tags_url': 'https://api.github.com/repos/JaimeCalcedo/datamad1020-rev/tags', 'blobs_url': 'https://api.github.com/repos/JaimeCalcedo/datamad1020-rev/git/blobs{/sha}', 'git_tags_url': 'https://api.github.com/repos/JaimeCalcedo/datamad1020-rev/git/tags{/sha}', 'git_refs_url': 'https://api.github.com/repos/JaimeCalcedo/datamad1020-rev/git/refs{/sha}', 'trees_url': 'https://api.github.com/repos/JaimeCalcedo/datamad1020-rev/git/trees{/sha}', 'statuses_url': 'https://api.github.com/repos/JaimeCalcedo/datamad1020-rev/statuses/{sha}', 'languages_url': 'https://api.github.com/repos/JaimeCalcedo/datamad1020-rev/languages', 'stargazers_url': 'https://api.github.com/repos/JaimeCalcedo/datamad1020-rev/stargazers', 'contributors_url': 'https://api.github.com/repos/JaimeCalcedo/datamad1020-rev/contributors', 'subscribers_url': 'https://api.github.com/repos/JaimeCalcedo/datamad1020-rev/subscribers', 'subscription_url': 'https://api.github.com/repos/JaimeCalcedo/datamad1020-rev/subscription', 'commits_url': 'https://api.github.com/repos/JaimeCalcedo/datamad1020-rev/commits{/sha}', 'git_commits_url': 'https://api.github.com/repos/JaimeCalcedo/datamad1020-rev/git/commits{/sha}', 'comments_url': 'https://api.github.com/repos/JaimeCalcedo/datamad1020-rev/comments{/number}', 'issue_comment_url': 'https://api.github.com/repos/JaimeCalcedo/datamad1020-rev/issues/comments{/number}', 'contents_url': 'https://api.github.com/repos/JaimeCalcedo/datamad1020-rev/contents/{+path}', 'compare_url': 'https://api.github.com/repos/JaimeCalcedo/datamad1020-rev/compare/{base}...{head}', 'merges_url': 'https://api.github.com/repos/JaimeCalcedo/datamad1020-rev/merges', 'archive_url': 'https://api.github.com/repos/JaimeCalcedo/datamad1020-rev/{archive_format}{/ref}', 'downloads_url': 'https://api.github.com/repos/JaimeCalcedo/datamad1020-rev/downloads', 'issues_url': 'https://api.github.com/repos/JaimeCalcedo/datamad1020-rev/issues{/number}', 'pulls_url': 'https://api.github.com/repos/JaimeCalcedo/datamad1020-rev/pulls{/number}', 'milestones_url': 'https://api.github.com/repos/JaimeCalcedo/datamad1020-rev/milestones{/number}', 'notifications_url': 'https://api.github.com/repos/JaimeCalcedo/datamad1020-rev/notifications{?since,all,participating}', 'labels_url': 'https://api.github.com/repos/JaimeCalcedo/datamad1020-rev/labels{/name}', 'releases_url': 'https://api.github.com/repos/JaimeCalcedo/datamad1020-rev/releases{/id}', 'deployments_url': 'https://api.github.com/repos/JaimeCalcedo/datamad1020-rev/deployments', 'created_at': '2020-10-19T13:30:21Z', 'updated_at': '2020-11-03T15:01:16Z', 'pushed_at': '2020-11-03T19:34:13Z', 'git_url': 'git://github.com/JaimeCalcedo/datamad1020-rev.git', 'ssh_url': 'git@github.com:JaimeCalcedo/datamad1020-rev.git', 'clone_url': 'https://github.com/JaimeCalcedo/datamad1020-rev.git', 'svn_url': 'https://github.com/JaimeCalcedo/datamad1020-rev', 'homepage': None, 'size': 163620, 'stargazers_count': 0, 'watchers_count': 0, 'language': 'Jupyter Notebook', 'has_issues': False, 'has_projects': True, 'has_downloads': True, 'has_wiki': True, 'has_pages': False, 'forks_count': 0, 'mirror_url': None, 'archived': False, 'disabled': False, 'open_issues_count': 0, 'license': {'key': 'agpl-3.0', 'name': 'GNU Affero General Public License v3.0', 'spdx_id': 'AGPL-3.0', 'url': 'https://api.github.com/licenses/agpl-3.0', 'node_id': 'MDc6TGljZW5zZTE='}, 'forks': 0, 'open_issues': 0, 'watchers': 0, 'default_branch': 'master'}]\n"
     ]
    }
   ],
   "source": [
    "print(data)\n",
    "df = pd.DataFrame(data)"
   ]
  },
  {
   "cell_type": "code",
   "execution_count": 90,
   "metadata": {},
   "outputs": [
    {
     "output_type": "execute_result",
     "data": {
      "text/plain": [
       "21"
      ]
     },
     "metadata": {},
     "execution_count": 90
    }
   ],
   "source": [
    "len(data)"
   ]
  },
  {
   "cell_type": "code",
   "execution_count": 64,
   "metadata": {},
   "outputs": [
    {
     "output_type": "stream",
     "name": "stdout",
     "text": [
      "['Jupyter Notebook']\n"
     ]
    }
   ],
   "source": [
    "languages = []\n",
    "for l in df['language']:\n",
    "    if l == None:\n",
    "        continue\n",
    "    else:\n",
    "        languages.append(l)\n",
    "print(list(set(languages)))"
   ]
  },
  {
   "source": [
    "#Challenge 2: Count Commits "
   ],
   "cell_type": "code",
   "metadata": {},
   "execution_count": 65,
   "outputs": []
  },
  {
   "cell_type": "code",
   "execution_count": 66,
   "metadata": {},
   "outputs": [],
   "source": [
    "url = 'https://api.github.com/repos/ironhack-datalabs/datamad1020-rev/stats/code_frequency'"
   ]
  },
  {
   "cell_type": "code",
   "execution_count": 67,
   "metadata": {},
   "outputs": [],
   "source": [
    "res2 = requests.get(url, headers)"
   ]
  },
  {
   "cell_type": "code",
   "execution_count": 68,
   "metadata": {},
   "outputs": [
    {
     "output_type": "stream",
     "name": "stdout",
     "text": [
      "<Response [200]>\n"
     ]
    }
   ],
   "source": [
    "print(res2)"
   ]
  },
  {
   "cell_type": "code",
   "execution_count": 69,
   "metadata": {},
   "outputs": [
    {
     "output_type": "stream",
     "name": "stdout",
     "text": [
      "[[1602374400, 983031, 0], [1602979200, 972, -174], [1603584000, 40233, -42356], [1604188800, 3, -3]]\n"
     ]
    }
   ],
   "source": [
    "data2 = res2.json()\n",
    "print(data2)"
   ]
  },
  {
   "cell_type": "code",
   "execution_count": 70,
   "metadata": {},
   "outputs": [
    {
     "output_type": "execute_result",
     "data": {
      "text/plain": [
       "list"
      ]
     },
     "metadata": {},
     "execution_count": 70
    }
   ],
   "source": [
    "type(data2)"
   ]
  },
  {
   "cell_type": "code",
   "execution_count": 71,
   "metadata": {},
   "outputs": [],
   "source": [
    "df = pd.DataFrame(data2)"
   ]
  },
  {
   "cell_type": "code",
   "execution_count": 72,
   "metadata": {},
   "outputs": [
    {
     "output_type": "execute_result",
     "data": {
      "text/plain": [
       "12"
      ]
     },
     "metadata": {},
     "execution_count": 72
    }
   ],
   "source": [
    "df.size"
   ]
  },
  {
   "cell_type": "code",
   "execution_count": 73,
   "metadata": {},
   "outputs": [],
   "source": [
    "#Challenge 3: Hidden Cold Joke"
   ]
  },
  {
   "cell_type": "code",
   "execution_count": 74,
   "metadata": {},
   "outputs": [],
   "source": [
    "url = 'https://api.github.com/repos/ironhack-datalabs/scavenger/search/topics/?q=scavenger+is:featured'"
   ]
  },
  {
   "cell_type": "code",
   "execution_count": 75,
   "metadata": {},
   "outputs": [],
   "source": [
    "res3 = requests.get(url, headers)"
   ]
  },
  {
   "cell_type": "code",
   "execution_count": 76,
   "metadata": {},
   "outputs": [
    {
     "output_type": "stream",
     "name": "stdout",
     "text": [
      "<Response [404]>\n"
     ]
    }
   ],
   "source": [
    "print(res3)"
   ]
  },
  {
   "cell_type": "code",
   "execution_count": 79,
   "metadata": {},
   "outputs": [],
   "source": [
    "url2 = 'https://api.github.com/repos/ironhack-datalabs/scavenger/search/topics/?q=scavenger+inironhack-datalabs/datamad1020-rev'"
   ]
  },
  {
   "cell_type": "code",
   "execution_count": 82,
   "metadata": {},
   "outputs": [],
   "source": [
    "res4 = requests.get(url2, headers)"
   ]
  },
  {
   "cell_type": "code",
   "execution_count": 83,
   "metadata": {},
   "outputs": [
    {
     "output_type": "stream",
     "name": "stdout",
     "text": [
      "<Response [404]>\n"
     ]
    }
   ],
   "source": [
    "print(res4)"
   ]
  },
  {
   "cell_type": "code",
   "execution_count": 84,
   "metadata": {},
   "outputs": [],
   "source": [
    "url3 = \"https://api.github.com/repos/ironhack-datalabs/scavenger/top-headlines?topic=scavenger\""
   ]
  },
  {
   "cell_type": "code",
   "execution_count": null,
   "metadata": {},
   "outputs": [],
   "source": []
  }
 ],
 "metadata": {
  "kernelspec": {
   "display_name": "Python 3",
   "language": "python",
   "name": "python3"
  },
  "language_info": {
   "codemirror_mode": {
    "name": "ipython",
    "version": 3
   },
   "file_extension": ".py",
   "mimetype": "text/x-python",
   "name": "python",
   "nbconvert_exporter": "python",
   "pygments_lexer": "ipython3",
   "version": "3.8.6-final"
  }
 },
 "nbformat": 4,
 "nbformat_minor": 4
}